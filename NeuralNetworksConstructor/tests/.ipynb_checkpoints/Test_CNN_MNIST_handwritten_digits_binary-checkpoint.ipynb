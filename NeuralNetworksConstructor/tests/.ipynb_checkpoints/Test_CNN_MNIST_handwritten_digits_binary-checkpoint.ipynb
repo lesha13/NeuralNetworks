{
 "cells": [
  {
   "cell_type": "code",
   "execution_count": 1,
   "id": "dac385ad",
   "metadata": {},
   "outputs": [],
   "source": [
    "import numpy as np\n",
    "import pandas as pd\n",
    "from PIL import Image"
   ]
  },
  {
   "cell_type": "code",
   "execution_count": 2,
   "id": "b5cf0585",
   "metadata": {},
   "outputs": [],
   "source": [
    "train_data = pd.read_csv(\"../data/MNIST_handwritten_digits/mnist_train.csv\")\n",
    "test_data = pd.read_csv(\"../data/MNIST_handwritten_digits/mnist_test.csv\")"
   ]
  },
  {
   "cell_type": "code",
   "execution_count": 3,
   "id": "8b0c8698",
   "metadata": {},
   "outputs": [],
   "source": [
    "x_train = train_data.iloc[::, 1::].to_numpy().astype(float).reshape([60000, 28, 28])\n",
    "y_train = train_data.iloc[::, 0].to_numpy().astype(int)\n",
    "x_test = test_data.iloc[::, 1::].to_numpy().astype(float).reshape([10000, 28, 28])\n",
    "y_test = test_data.iloc[::, 0].to_numpy().astype(int)"
   ]
  },
  {
   "cell_type": "code",
   "execution_count": 4,
   "id": "61bb7cd6",
   "metadata": {},
   "outputs": [],
   "source": [
    "x_train_binary = x_train[(y_train == 0) | (y_train == 1)]\n",
    "y_train_binary = y_train[(y_train == 0) | (y_train == 1)]\n",
    "x_test_binary = x_train[(y_train == 0) | (y_train == 1)]\n",
    "y_test_binary = y_train[(y_train == 0) | (y_train == 1)]"
   ]
  },
  {
   "cell_type": "code",
   "execution_count": 5,
   "id": "7cae2d6d",
   "metadata": {},
   "outputs": [
    {
     "data": {
      "image/png": "[encoded data removed]",
      "text/plain": [
       "<PIL.Image.Image image mode=RGB size=28x28>"
      ]
     },
     "execution_count": 5,
     "metadata": {},
     "output_type": "execute_result"
    }
   ],
   "source": [
    "Image.fromarray(x_train_binary[0]).convert(\"RGB\")"
   ]
  },
  {
   "cell_type": "code",
   "execution_count": 6,
   "id": "82226a2d",
   "metadata": {},
   "outputs": [
    {
     "data": {
      "image/png": "[encoded data removed]",
      "text/plain": [
       "<PIL.Image.Image image mode=RGB size=28x28>"
      ]
     },
     "execution_count": 6,
     "metadata": {},
     "output_type": "execute_result"
    }
   ],
   "source": [
    "Image.fromarray(x_train_binary[1]).convert(\"RGB\")"
   ]
  },
  {
   "cell_type": "code",
   "execution_count": 7,
   "id": "e8765edf",
   "metadata": {},
   "outputs": [],
   "source": [
    "import sys\n",
    "sys.path.insert(0, \"..\")"
   ]
  },
  {
   "cell_type": "code",
   "execution_count": 8,
   "id": "a0b59bed",
   "metadata": {},
   "outputs": [],
   "source": [
    "from data_preprocessing import normalize"
   ]
  },
  {
   "cell_type": "code",
   "execution_count": 9,
   "id": "8fe134ee",
   "metadata": {},
   "outputs": [],
   "source": [
    "x_train_binary = normalize(x_train_binary)[::, np.newaxis, ...]\n",
    "x_test_binary = normalize(x_test_binary)[::, np.newaxis, ...]"
   ]
  },
  {
   "cell_type": "code",
   "execution_count": 10,
   "id": "a84f70e3",
   "metadata": {},
   "outputs": [],
   "source": [
    "import warnings\n",
    "warnings.filterwarnings(\"ignore\")"
   ]
  },
  {
   "cell_type": "code",
   "execution_count": 11,
   "id": "ba030240",
   "metadata": {},
   "outputs": [],
   "source": [
    "from NeuralNetworks import CNNb"
   ]
  },
  {
   "cell_type": "code",
   "execution_count": 12,
   "id": "e087cb33",
   "metadata": {},
   "outputs": [
    {
     "data": {
      "text/plain": [
       "CNNb(NeuralNetwork):\n",
       "conv_layer1: ConvolutionLayer2d(\n",
       "\tinput channels: 1, output channels: 5, \n",
       "\tlength: 28, width: 28, kernel size: 3, \n",
       "\tactivation function: ReLU\n",
       ")\n",
       "max_pool_layer1: MaxPoolLayer2d()\n",
       "conv_layer2: ConvolutionLayer2d(\n",
       "\tinput channels: 5, output channels: 20, \n",
       "\tlength: 13, width: 13, kernel size: 3, \n",
       "\tactivation function: ReLU\n",
       ")\n",
       "max_pool_layer2: MaxPoolLayer2d()\n",
       "flatten_layer: FlattenLayer()\n",
       "linear_layer1: LinearLayer(\n",
       "\tinput size: 500, output size: 250, activation function: sigmoid\n",
       ")\n",
       "linear_layer2: LinearLayer(\n",
       "\tinput size: 250, output size: 1, activation function: sigmoid\n",
       ")"
      ]
     },
     "execution_count": 12,
     "metadata": {},
     "output_type": "execute_result"
    }
   ],
   "source": [
    "test = CNNb()\n",
    "test"
   ]
  },
  {
   "cell_type": "code",
   "execution_count": 13,
   "id": "820ae522",
   "metadata": {},
   "outputs": [
    {
     "data": {
      "text/plain": [
       "(array(0.70818605), 0, array(0.71575561), 1)"
      ]
     },
     "execution_count": 13,
     "metadata": {},
     "output_type": "execute_result"
    }
   ],
   "source": [
    "test(x_train_binary[0]), y_train_binary[0], test(x_train_binary[1]), y_train_binary[1]"
   ]
  },
  {
   "cell_type": "code",
   "execution_count": 14,
   "id": "3a804f5b",
   "metadata": {},
   "outputs": [],
   "source": [
    "n_samples = 120"
   ]
  },
  {
   "cell_type": "code",
   "execution_count": 15,
   "id": "3ffb0705",
   "metadata": {},
   "outputs": [
    {
     "name": "stdout",
     "output_type": "stream",
     "text": [
      "Epoch: 0\n",
      "Epoch: 1\n",
      "Epoch: 2\n",
      "Epoch: 3\n",
      "Epoch: 4\n",
      "Epoch: 5\n",
      "Epoch: 6\n",
      "Epoch: 7\n",
      "Epoch: 8\n",
      "Epoch: 9\n",
      "train() executed in 0:03:01.977959.\n"
     ]
    }
   ],
   "source": [
    "test.train(x_train_binary[:n_samples:], y_train_binary[:n_samples:], 10, 0.001)"
   ]
  },
  {
   "cell_type": "code",
   "execution_count": 16,
   "id": "623b3be4",
   "metadata": {},
   "outputs": [
    {
     "data": {
      "text/plain": [
       "(array(0.08289646), 0, array(0.92122412), 1)"
      ]
     },
     "execution_count": 16,
     "metadata": {},
     "output_type": "execute_result"
    }
   ],
   "source": [
    "test(x_train_binary[0]), y_train_binary[0], test(x_train_binary[1]), y_train_binary[1]"
   ]
  },
  {
   "cell_type": "code",
   "execution_count": 17,
   "id": "c196caa9",
   "metadata": {},
   "outputs": [],
   "source": [
    "n_samples = 600"
   ]
  },
  {
   "cell_type": "code",
   "execution_count": 18,
   "id": "11b2d335",
   "metadata": {},
   "outputs": [],
   "source": [
    "res = np.round(np.array([test(_) for _ in x_test_binary[:n_samples:]]))"
   ]
  },
  {
   "cell_type": "code",
   "execution_count": 19,
   "id": "a35fa70c",
   "metadata": {
    "scrolled": true
   },
   "outputs": [
    {
     "data": {
      "text/plain": [
       "0.9866666666666667"
      ]
     },
     "execution_count": 19,
     "metadata": {},
     "output_type": "execute_result"
    }
   ],
   "source": [
    "(res == y_test_binary[:n_samples:]).sum() / n_samples"
   ]
  },
  {
   "cell_type": "code",
   "execution_count": null,
   "id": "4d569219",
   "metadata": {},
   "outputs": [],
   "source": []
  }
 ],
 "metadata": {
  "kernelspec": {
   "display_name": "Python [conda env:NN]",
   "language": "python",
   "name": "conda-env-NN-py"
  },
  "language_info": {
   "codemirror_mode": {
    "name": "ipython",
    "version": 3
   },
   "file_extension": ".py",
   "mimetype": "text/x-python",
   "name": "python",
   "nbconvert_exporter": "python",
   "pygments_lexer": "ipython3",
   "version": "3.10.9"
  }
 },
 "nbformat": 4,
 "nbformat_minor": 5
}
