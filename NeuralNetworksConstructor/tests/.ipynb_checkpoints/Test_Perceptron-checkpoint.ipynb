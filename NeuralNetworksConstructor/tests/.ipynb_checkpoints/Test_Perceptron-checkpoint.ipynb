{
 "cells": [
  {
   "cell_type": "code",
   "execution_count": 1,
   "id": "db39e7bd",
   "metadata": {},
   "outputs": [],
   "source": [
    "import sys\n",
    "sys.path.insert(0, \"..\")"
   ]
  },
  {
   "cell_type": "code",
   "execution_count": 2,
   "id": "e6a9acc4",
   "metadata": {},
   "outputs": [],
   "source": [
    "import numpy as np\n",
    "import matplotlib.pyplot as plt\n",
    "from sklearn.datasets import make_blobs\n",
    "from sklearn.model_selection import train_test_split"
   ]
  },
  {
   "cell_type": "code",
   "execution_count": 3,
   "id": "01205b1a",
   "metadata": {},
   "outputs": [],
   "source": [
    "n_samples = 200\n",
    "n_features = 2\n",
    "centers = 2"
   ]
  },
  {
   "cell_type": "code",
   "execution_count": 4,
   "id": "1f62be95",
   "metadata": {},
   "outputs": [],
   "source": [
    "from data_preprocessing import normalize"
   ]
  },
  {
   "cell_type": "code",
   "execution_count": 5,
   "id": "7dcc122c",
   "metadata": {},
   "outputs": [
    {
     "data": {
      "text/plain": [
       "((200, 2), (200,))"
      ]
     },
     "execution_count": 5,
     "metadata": {},
     "output_type": "execute_result"
    }
   ],
   "source": [
    "x, y = make_blobs(n_samples=n_samples, n_features=n_features, centers=centers, random_state=3)\n",
    "\n",
    "x = normalize(x)\n",
    "\n",
    "y[y == 0] = -1\n",
    "x.shape, y.shape"
   ]
  },
  {
   "cell_type": "code",
   "execution_count": 6,
   "id": "d3298269",
   "metadata": {},
   "outputs": [
    {
     "data": {
      "image/png": "[encoded data removed]",
      "text/plain": [
       "<Figure size 640x480 with 1 Axes>"
      ]
     },
     "metadata": {},
     "output_type": "display_data"
    }
   ],
   "source": [
    "plt.scatter(x[:, 0][y == -1], x[:, 1][y == -1], c=\"b\")\n",
    "plt.scatter(x[:, 0][y == 1], x[:, 1][y == 1], c=\"r\")\n",
    "\n",
    "plt.xlabel(\"x1\")\n",
    "plt.ylabel(\"x2\")\n",
    "\n",
    "plt.savefig(\"perceptron_data.png\")"
   ]
  },
  {
   "cell_type": "code",
   "execution_count": 7,
   "id": "684f5b15",
   "metadata": {},
   "outputs": [
    {
     "data": {
      "text/plain": [
       "((150, 2), (50, 2), (150,), (50,))"
      ]
     },
     "execution_count": 7,
     "metadata": {},
     "output_type": "execute_result"
    }
   ],
   "source": [
    "x_train, x_test, y_train, y_test = train_test_split(x, y)\n",
    "x_train.shape, x_test.shape, y_train.shape, y_test.shape"
   ]
  },
  {
   "cell_type": "code",
   "execution_count": null,
   "id": "496a34be",
   "metadata": {},
   "outputs": [],
   "source": []
  },
  {
   "cell_type": "code",
   "execution_count": 8,
   "id": "f8849712",
   "metadata": {},
   "outputs": [],
   "source": [
    "from Architectures import Perceptron"
   ]
  },
  {
   "cell_type": "code",
   "execution_count": 9,
   "id": "dce5d366",
   "metadata": {},
   "outputs": [
    {
     "data": {
      "text/plain": [
       "Perceptron(NeuralNetwork):\n",
       "dense_layer: DenseLayer(\n",
       "\tinput size: 2, output size: 1, activation function: signum\n",
       ")"
      ]
     },
     "execution_count": 9,
     "metadata": {},
     "output_type": "execute_result"
    }
   ],
   "source": [
    "test = Perceptron()\n",
    "test"
   ]
  },
  {
   "cell_type": "code",
   "execution_count": 10,
   "id": "5776793b",
   "metadata": {},
   "outputs": [],
   "source": [
    "from NeuralNetworks import SequentialNeuralNetwork\n",
    "from Layers import DenseLayer\n",
    "from activation_functions import signum\n",
    "\n",
    "test = SequentialNeuralNetwork(\n",
    "    DenseLayer(2, 1, signum)\n",
    ")"
   ]
  },
  {
   "cell_type": "code",
   "execution_count": 11,
   "id": "c8df101e",
   "metadata": {},
   "outputs": [
    {
     "data": {
      "text/plain": [
       "(array(-1), 1, array(-1), 1)"
      ]
     },
     "execution_count": 11,
     "metadata": {},
     "output_type": "execute_result"
    }
   ],
   "source": [
    "test(x_train[0]), y_train[0], test(x_train[1]), y_train[1]"
   ]
  },
  {
   "cell_type": "code",
   "execution_count": 12,
   "id": "328e4a50",
   "metadata": {},
   "outputs": [],
   "source": [
    "# test.train(x_train, y_train, epochs=5, lr=0.01)"
   ]
  },
  {
   "cell_type": "code",
   "execution_count": 13,
   "id": "56b74e36",
   "metadata": {},
   "outputs": [
    {
     "data": {
      "text/plain": [
       "(array(-1), 1, array(-1), 1)"
      ]
     },
     "execution_count": 13,
     "metadata": {},
     "output_type": "execute_result"
    }
   ],
   "source": [
    "test(x_train[0]), y_train[0], test(x_train[1]), y_train[1]"
   ]
  },
  {
   "cell_type": "code",
   "execution_count": 14,
   "id": "f5c97a8e",
   "metadata": {},
   "outputs": [
    {
     "name": "stdout",
     "output_type": "stream",
     "text": [
      "Epoch: 0\n",
      "\tLoss: 1.28\n",
      "Epoch: 1\n",
      "\tLoss: 0.24\n",
      "Epoch: 2\n",
      "\tLoss: 0.05333333333333334\n",
      "train() executed in 0:00:00.027316.\n",
      "Accuracy = 100.0%\n"
     ]
    }
   ],
   "source": [
    "test.train(x_train, y_train, epochs=3, lr=0.01)\n",
    "res = np.array([test(item) for item in x_test])\n",
    "accuracy = ((res == y_test).sum() / res.size) * 100\n",
    "print(f\"Accuracy = {accuracy}%\")"
   ]
  },
  {
   "cell_type": "code",
   "execution_count": 16,
   "id": "0620ebbb",
   "metadata": {},
   "outputs": [
    {
     "name": "stdout",
     "output_type": "stream",
     "text": [
      "Accuracy = 100.0%\n"
     ]
    }
   ],
   "source": [
    "print(f\"Accuracy = {accuracy}%\")"
   ]
  },
  {
   "cell_type": "code",
   "execution_count": 15,
   "id": "c6a7a78b",
   "metadata": {},
   "outputs": [
    {
     "data": {
      "text/plain": [
       "True"
      ]
     },
     "execution_count": 15,
     "metadata": {},
     "output_type": "execute_result"
    }
   ],
   "source": [
    "np.array(1) == 1"
   ]
  },
  {
   "cell_type": "code",
   "execution_count": null,
   "id": "3da8ce91",
   "metadata": {},
   "outputs": [],
   "source": []
  }
 ],
 "metadata": {
  "kernelspec": {
   "display_name": "Python [conda env:NN]",
   "language": "python",
   "name": "conda-env-NN-py"
  },
  "language_info": {
   "codemirror_mode": {
    "name": "ipython",
    "version": 3
   },
   "file_extension": ".py",
   "mimetype": "text/x-python",
   "name": "python",
   "nbconvert_exporter": "python",
   "pygments_lexer": "ipython3",
   "version": "3.10.9"
  }
 },
 "nbformat": 4,
 "nbformat_minor": 5
}
