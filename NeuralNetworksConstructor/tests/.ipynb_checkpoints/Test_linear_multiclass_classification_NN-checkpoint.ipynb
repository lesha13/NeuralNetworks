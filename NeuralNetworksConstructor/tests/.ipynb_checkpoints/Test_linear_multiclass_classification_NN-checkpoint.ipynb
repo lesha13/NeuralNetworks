{
 "cells": [
  {
   "cell_type": "code",
   "execution_count": 1,
   "id": "d81b5cf7",
   "metadata": {},
   "outputs": [],
   "source": [
    "import sys\n",
    "sys.path.insert(0, \"..\")"
   ]
  },
  {
   "cell_type": "code",
   "execution_count": 2,
   "id": "247c4c6a",
   "metadata": {},
   "outputs": [],
   "source": [
    "import numpy as np\n",
    "import matplotlib.pyplot as plt\n",
    "from sklearn.datasets import make_blobs\n",
    "from sklearn.model_selection import train_test_split"
   ]
  },
  {
   "cell_type": "code",
   "execution_count": 3,
   "id": "9f08daa0",
   "metadata": {},
   "outputs": [],
   "source": [
    "n_samples = 400\n",
    "n_features = 2\n",
    "centers = 4"
   ]
  },
  {
   "cell_type": "code",
   "execution_count": 4,
   "id": "90fb8edc",
   "metadata": {},
   "outputs": [],
   "source": [
    "from data_preprocessing import normalize"
   ]
  },
  {
   "cell_type": "code",
   "execution_count": 5,
   "id": "f2ca1d23",
   "metadata": {},
   "outputs": [
    {
     "data": {
      "text/plain": [
       "((400, 2), (400,))"
      ]
     },
     "execution_count": 5,
     "metadata": {},
     "output_type": "execute_result"
    }
   ],
   "source": [
    "x, y = make_blobs(n_samples=n_samples, n_features=n_features, centers=centers, random_state=3)\n",
    "\n",
    "x = normalize(x)\n",
    "\n",
    "x.shape, y.shape"
   ]
  },
  {
   "cell_type": "code",
   "execution_count": 6,
   "id": "befdb983",
   "metadata": {},
   "outputs": [
    {
     "data": {
      "image/png": "[encoded data removed]",
      "text/plain": [
       "<Figure size 640x480 with 1 Axes>"
      ]
     },
     "metadata": {},
     "output_type": "display_data"
    }
   ],
   "source": [
    "plt.scatter(x[:, 0][y == 0], x[:, 1][y == 0], c=\"b\", s=10)\n",
    "plt.scatter(x[:, 0][y == 1], x[:, 1][y == 1], c=\"r\", s=10)\n",
    "plt.scatter(x[:, 0][y == 2], x[:, 1][y == 2], c=\"y\", s=10)\n",
    "plt.scatter(x[:, 0][y == 3], x[:, 1][y == 3], c=\"g\", s=10)\n",
    "\n",
    "plt.xlabel(\"x1\")\n",
    "plt.ylabel(\"x2\")\n",
    "\n",
    "plt.savefig(\"MLP_data.png\")"
   ]
  },
  {
   "cell_type": "code",
   "execution_count": 7,
   "id": "3eef3dcf",
   "metadata": {},
   "outputs": [],
   "source": [
    "dummy = np.zeros([n_samples, centers])\n",
    "dummy[np.arange(y.size), y] = 1\n",
    "y = dummy"
   ]
  },
  {
   "cell_type": "code",
   "execution_count": 8,
   "id": "4b031f4b",
   "metadata": {},
   "outputs": [
    {
     "data": {
      "text/plain": [
       "((300, 2), (100, 2), (300, 4), (100, 4))"
      ]
     },
     "execution_count": 8,
     "metadata": {},
     "output_type": "execute_result"
    }
   ],
   "source": [
    "x_train, x_test, y_train, y_test = train_test_split(x, y)\n",
    "x_train.shape, x_test.shape, y_train.shape, y_test.shape"
   ]
  },
  {
   "cell_type": "code",
   "execution_count": 9,
   "id": "81b46731",
   "metadata": {},
   "outputs": [],
   "source": [
    "from Architectures import NNm"
   ]
  },
  {
   "cell_type": "code",
   "execution_count": 10,
   "id": "5e3bbc21",
   "metadata": {
    "scrolled": true
   },
   "outputs": [
    {
     "data": {
      "text/plain": [
       "NNm(NeuralNetwork):\n",
       "dense_layer1: DenseLayer(\n",
       "\tinput size: 2, output size: 16, activation function: sigmoid\n",
       ")\n",
       "dense_layer2: DenseLayer(\n",
       "\tinput size: 16, output size: 16, activation function: sigmoid\n",
       ")\n",
       "dense_layer3: DenseLayer(\n",
       "\tinput size: 16, output size: 4, activation function: softmax\n",
       ")"
      ]
     },
     "execution_count": 10,
     "metadata": {},
     "output_type": "execute_result"
    }
   ],
   "source": [
    "test = NNm()\n",
    "test"
   ]
  },
  {
   "cell_type": "code",
   "execution_count": 11,
   "id": "07842a6a",
   "metadata": {},
   "outputs": [
    {
     "data": {
      "text/plain": [
       "SequentialNeuralNetwork(NeuralNetwork):\n",
       "zDeeqzqHuA: DenseLayer(\n",
       "\tinput size: 2, output size: 16, activation function: sigmoid\n",
       ")\n",
       "GaHMgubSyE: DenseLayer(\n",
       "\tinput size: 16, output size: 16, activation function: sigmoid\n",
       ")\n",
       "ntyJZIpCME: DenseLayer(\n",
       "\tinput size: 16, output size: 4, activation function: softmax\n",
       ")"
      ]
     },
     "execution_count": 11,
     "metadata": {},
     "output_type": "execute_result"
    }
   ],
   "source": [
    "from NeuralNetworks import SequentialNeuralNetwork\n",
    "from Layers import DenseLayer\n",
    "from activation_functions import softmax\n",
    "\n",
    "test = (\n",
    "    SequentialNeuralNetwork()\n",
    "    .add(DenseLayer(2, 16))\n",
    "    .add(DenseLayer(16, 16))\n",
    "    .add(DenseLayer(16, 4, softmax))\n",
    ")\n",
    "test\n",
    "# .add(DenseLayer(2, 16)\n",
    "# [\n",
    "#     DenseLayer(2, 16),\n",
    "#     DenseLayer(16, 16),\n",
    "#     DenseLayer(16, 4, softmax)\n",
    "# ]"
   ]
  },
  {
   "cell_type": "code",
   "execution_count": 12,
   "id": "96e7db19",
   "metadata": {},
   "outputs": [
    {
     "data": {
      "text/plain": [
       "SequentialNeuralNetwork(NeuralNetwork):\n",
       "zDeeqzqHuA: DenseLayer(\n",
       "\tinput size: 2, output size: 16, activation function: sigmoid\n",
       ")\n",
       "GaHMgubSyE: DenseLayer(\n",
       "\tinput size: 16, output size: 16, activation function: sigmoid\n",
       ")\n",
       "ntyJZIpCME: DenseLayer(\n",
       "\tinput size: 16, output size: 4, activation function: softmax\n",
       ")"
      ]
     },
     "execution_count": 12,
     "metadata": {},
     "output_type": "execute_result"
    }
   ],
   "source": [
    "test"
   ]
  },
  {
   "cell_type": "code",
   "execution_count": 13,
   "id": "72acb30b",
   "metadata": {
    "scrolled": true
   },
   "outputs": [],
   "source": [
    "# test.train(x_train, y_train, epochs=150, lr=0.01)"
   ]
  },
  {
   "cell_type": "code",
   "execution_count": 14,
   "id": "6d37bf85",
   "metadata": {},
   "outputs": [],
   "source": [
    "# np.round(test(x_train[0]), 3), y_train[0]"
   ]
  },
  {
   "cell_type": "code",
   "execution_count": 15,
   "id": "0cbfab63",
   "metadata": {},
   "outputs": [
    {
     "name": "stdout",
     "output_type": "stream",
     "text": [
      "Epoch: 0\n",
      "\tLoss: 0.18861553241860532\n",
      "Epoch: 1\n",
      "\tLoss: 0.18894506169083114\n",
      "Epoch: 2\n",
      "\tLoss: 0.18895680359317418\n",
      "Epoch: 3\n",
      "\tLoss: 0.1889581988707029\n",
      "Epoch: 4\n",
      "\tLoss: 0.18895941544975536\n",
      "Epoch: 5\n",
      "\tLoss: 0.18896064013662842\n",
      "Epoch: 6\n",
      "\tLoss: 0.18896186343008578\n",
      "Epoch: 7\n",
      "\tLoss: 0.18896307189524283\n",
      "Epoch: 8\n",
      "\tLoss: 0.18896425178256662\n",
      "Epoch: 9\n",
      "\tLoss: 0.18896538901822643\n",
      "Epoch: 10\n",
      "\tLoss: 0.18896646912298942\n",
      "Epoch: 11\n",
      "\tLoss: 0.18896747712595438\n",
      "Epoch: 12\n",
      "\tLoss: 0.18896839747348612\n",
      "Epoch: 13\n",
      "\tLoss: 0.1889692139324244\n",
      "Epoch: 14\n",
      "\tLoss: 0.18896990948653172\n",
      "Epoch: 15\n",
      "\tLoss: 0.18897046622504157\n",
      "Epoch: 16\n",
      "\tLoss: 0.18897086522204556\n",
      "Epoch: 17\n",
      "\tLoss: 0.18897108640531257\n",
      "Epoch: 18\n",
      "\tLoss: 0.18897110841296447\n",
      "Epoch: 19\n",
      "\tLoss: 0.18897090843623174\n",
      "Epoch: 20\n",
      "\tLoss: 0.1889704620462805\n",
      "Epoch: 21\n",
      "\tLoss: 0.18896974300282898\n",
      "Epoch: 22\n",
      "\tLoss: 0.18896872304195175\n",
      "Epoch: 23\n",
      "\tLoss: 0.18896737164009755\n",
      "Epoch: 24\n",
      "\tLoss: 0.18896565575090837\n",
      "Epoch: 25\n",
      "\tLoss: 0.18896353951091382\n",
      "Epoch: 26\n",
      "\tLoss: 0.1889609839095727\n",
      "Epoch: 27\n",
      "\tLoss: 0.18895794641842356\n",
      "Epoch: 28\n",
      "\tLoss: 0.18895438057327055\n",
      "Epoch: 29\n",
      "\tLoss: 0.1889502355023413\n",
      "Epoch: 30\n",
      "\tLoss: 0.18894545539218588\n",
      "Epoch: 31\n",
      "\tLoss: 0.18893997888169553\n",
      "Epoch: 32\n",
      "\tLoss: 0.18893373837297037\n",
      "Epoch: 33\n",
      "\tLoss: 0.1889266592457946\n",
      "Epoch: 34\n",
      "\tLoss: 0.18891865896012422\n",
      "Epoch: 35\n",
      "\tLoss: 0.1889096460281679\n",
      "Epoch: 36\n",
      "\tLoss: 0.18889951883424883\n",
      "Epoch: 37\n",
      "\tLoss: 0.18888816427654162\n",
      "Epoch: 38\n",
      "\tLoss: 0.1888754561998294\n",
      "Epoch: 39\n",
      "\tLoss: 0.18886125358242212\n",
      "Epoch: 40\n",
      "\tLoss: 0.1888453984330714\n",
      "Epoch: 41\n",
      "\tLoss: 0.18882771334479795\n",
      "Epoch: 42\n",
      "\tLoss: 0.18880799864162312\n",
      "Epoch: 43\n",
      "\tLoss: 0.18878602904077274\n",
      "Epoch: 44\n",
      "\tLoss: 0.18876154973636367\n",
      "Epoch: 45\n",
      "\tLoss: 0.18873427179009958\n",
      "Epoch: 46\n",
      "\tLoss: 0.18870386668905736\n",
      "Epoch: 47\n",
      "\tLoss: 0.18866995989893592\n",
      "Epoch: 48\n",
      "\tLoss: 0.18863212320147046\n",
      "Epoch: 49\n",
      "\tLoss: 0.18858986555491236\n",
      "Epoch: 50\n",
      "\tLoss: 0.18854262215371917\n",
      "Epoch: 51\n",
      "\tLoss: 0.18848974128423554\n",
      "Epoch: 52\n",
      "\tLoss: 0.18843046847242764\n",
      "Epoch: 53\n",
      "\tLoss: 0.18836392729147122\n",
      "Epoch: 54\n",
      "\tLoss: 0.18828909603313984\n",
      "Epoch: 55\n",
      "\tLoss: 0.18820477923698972\n",
      "Epoch: 56\n",
      "\tLoss: 0.18810957280164844\n",
      "Epoch: 57\n",
      "\tLoss: 0.18800182105538735\n",
      "Epoch: 58\n",
      "\tLoss: 0.18787956371579492\n",
      "Epoch: 59\n",
      "\tLoss: 0.18774047009170586\n",
      "Epoch: 60\n",
      "\tLoss: 0.1875817571380991\n",
      "Epoch: 61\n",
      "\tLoss: 0.18740008702189767\n",
      "Epoch: 62\n",
      "\tLoss: 0.18719143864134527\n",
      "Epoch: 63\n",
      "\tLoss: 0.1869509460076336\n",
      "Epoch: 64\n",
      "\tLoss: 0.18667269449367954\n",
      "Epoch: 65\n",
      "\tLoss: 0.18634946365687122\n",
      "Epoch: 66\n",
      "\tLoss: 0.18597240269590976\n",
      "Epoch: 67\n",
      "\tLoss: 0.1855306218077406\n",
      "Epoch: 68\n",
      "\tLoss: 0.18501068028514814\n",
      "Epoch: 69\n",
      "\tLoss: 0.1843959512582398\n",
      "Epoch: 70\n",
      "\tLoss: 0.1836658457576758\n",
      "Epoch: 71\n",
      "\tLoss: 0.18279488942370367\n",
      "Epoch: 72\n",
      "\tLoss: 0.18175167107847778\n",
      "Epoch: 73\n",
      "\tLoss: 0.18049773583591275\n",
      "Epoch: 74\n",
      "\tLoss: 0.17898659534900896\n",
      "Epoch: 75\n",
      "\tLoss: 0.17716319923574939\n",
      "Epoch: 76\n",
      "\tLoss: 0.1749644777216464\n",
      "Epoch: 77\n",
      "\tLoss: 0.1723219189706692\n",
      "Epoch: 78\n",
      "\tLoss: 0.169167480463756\n",
      "Epoch: 79\n",
      "\tLoss: 0.16544413270946956\n",
      "Epoch: 80\n",
      "\tLoss: 0.16112136740102503\n",
      "Epoch: 81\n",
      "\tLoss: 0.15621334753962382\n",
      "Epoch: 82\n",
      "\tLoss: 0.1507932106362415\n",
      "Epoch: 83\n",
      "\tLoss: 0.1449940182855747\n",
      "Epoch: 84\n",
      "\tLoss: 0.13898982578180158\n",
      "Epoch: 85\n",
      "\tLoss: 0.13296104176649423\n",
      "Epoch: 86\n",
      "\tLoss: 0.12705926294164474\n",
      "Epoch: 87\n",
      "\tLoss: 0.12138703056061372\n",
      "Epoch: 88\n",
      "\tLoss: 0.11599696753133898\n",
      "Epoch: 89\n",
      "\tLoss: 0.11090367737580079\n",
      "Epoch: 90\n",
      "\tLoss: 0.10609888689761264\n",
      "Epoch: 91\n",
      "\tLoss: 0.101563765052686\n",
      "Epoch: 92\n",
      "\tLoss: 0.09727667854961247\n",
      "Epoch: 93\n",
      "\tLoss: 0.0932170923899858\n",
      "Epoch: 94\n",
      "\tLoss: 0.08936699154026347\n",
      "Epoch: 95\n",
      "\tLoss: 0.08571100363538849\n",
      "Epoch: 96\n",
      "\tLoss: 0.08223599158826041\n",
      "Epoch: 97\n",
      "\tLoss: 0.07893053212624374\n",
      "Epoch: 98\n",
      "\tLoss: 0.0757844634775638\n",
      "Epoch: 99\n",
      "\tLoss: 0.07278855554386801\n",
      "train() executed in 0:00:03.178498.\n",
      "Accuracy = 93.75%\n"
     ]
    }
   ],
   "source": [
    "test.train(x_train, y_train, epochs=100, lr=0.01)\n",
    "res = np.array([np.round(test(item)) for item in x_test])\n",
    "accuracy = ((res == y_test).sum() / res.size) * 100\n",
    "print(f\"Accuracy = {accuracy}%\")"
   ]
  },
  {
   "cell_type": "code",
   "execution_count": null,
   "id": "94a2caec",
   "metadata": {},
   "outputs": [],
   "source": []
  }
 ],
 "metadata": {
  "kernelspec": {
   "display_name": "Python [conda env:NN]",
   "language": "python",
   "name": "conda-env-NN-py"
  },
  "language_info": {
   "codemirror_mode": {
    "name": "ipython",
    "version": 3
   },
   "file_extension": ".py",
   "mimetype": "text/x-python",
   "name": "python",
   "nbconvert_exporter": "python",
   "pygments_lexer": "ipython3",
   "version": "3.10.9"
  }
 },
 "nbformat": 4,
 "nbformat_minor": 5
}
