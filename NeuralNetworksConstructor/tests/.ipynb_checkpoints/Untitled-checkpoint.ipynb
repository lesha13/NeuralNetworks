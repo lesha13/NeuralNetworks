{
 "cells": [
  {
   "cell_type": "code",
   "execution_count": 1,
   "id": "11034d1a",
   "metadata": {},
   "outputs": [],
   "source": [
    "class A:\n",
    "    def __init__(self):\n",
    "        self.a = [1, 2, 3]\n",
    "    \n",
    "    def __iter__(self):\n",
    "        self.aa = iter(self.a)\n",
    "        return self\n",
    "    \n",
    "    def __next__(self):\n",
    "        try:\n",
    "            return next(self.aa)\n",
    "        except StopIteration:\n",
    "            del self.aa\n",
    "            raise StopIteration\n",
    "    \n",
    "    def __reversed__(self):\n",
    "        self.aa = reversed(self.a)\n",
    "        return self"
   ]
  },
  {
   "cell_type": "code",
   "execution_count": 2,
   "id": "540db6a2",
   "metadata": {},
   "outputs": [],
   "source": [
    "a = A()"
   ]
  },
  {
   "cell_type": "code",
   "execution_count": 3,
   "id": "7e8196cb",
   "metadata": {},
   "outputs": [
    {
     "data": {
      "text/plain": [
       "<__main__.A at 0x150e8843940>"
      ]
     },
     "execution_count": 3,
     "metadata": {},
     "output_type": "execute_result"
    }
   ],
   "source": [
    "b = iter(a)\n",
    "b"
   ]
  },
  {
   "cell_type": "code",
   "execution_count": 4,
   "id": "0cb6681b",
   "metadata": {},
   "outputs": [
    {
     "name": "stdout",
     "output_type": "stream",
     "text": [
      "1\n",
      "2\n",
      "3\n"
     ]
    }
   ],
   "source": [
    "for _ in a:\n",
    "    print(_)"
   ]
  },
  {
   "cell_type": "code",
   "execution_count": 5,
   "id": "daa65c6e",
   "metadata": {},
   "outputs": [
    {
     "data": {
      "text/plain": [
       "[1, 2, 3]"
      ]
     },
     "execution_count": 5,
     "metadata": {},
     "output_type": "execute_result"
    }
   ],
   "source": [
    "a.a"
   ]
  },
  {
   "cell_type": "code",
   "execution_count": 6,
   "id": "e1bda34c",
   "metadata": {},
   "outputs": [],
   "source": [
    "# a.aa"
   ]
  },
  {
   "cell_type": "code",
   "execution_count": null,
   "id": "3a3a08c4",
   "metadata": {},
   "outputs": [],
   "source": []
  },
  {
   "cell_type": "code",
   "execution_count": 7,
   "id": "6027023e",
   "metadata": {},
   "outputs": [
    {
     "data": {
      "text/plain": [
       "<__main__.A at 0x150e8843940>"
      ]
     },
     "execution_count": 7,
     "metadata": {},
     "output_type": "execute_result"
    }
   ],
   "source": [
    "reversed(a)"
   ]
  },
  {
   "cell_type": "code",
   "execution_count": 8,
   "id": "a6272260",
   "metadata": {},
   "outputs": [
    {
     "name": "stdout",
     "output_type": "stream",
     "text": [
      "1\n",
      "2\n",
      "3\n"
     ]
    }
   ],
   "source": [
    "for _ in reversed(a):\n",
    "    print(_)"
   ]
  },
  {
   "cell_type": "code",
   "execution_count": 9,
   "id": "b8bffe54",
   "metadata": {},
   "outputs": [],
   "source": [
    "b = reversed(a)"
   ]
  },
  {
   "cell_type": "code",
   "execution_count": 10,
   "id": "345562e5",
   "metadata": {},
   "outputs": [
    {
     "data": {
      "text/plain": [
       "3"
      ]
     },
     "execution_count": 10,
     "metadata": {},
     "output_type": "execute_result"
    }
   ],
   "source": [
    "next(b)"
   ]
  },
  {
   "cell_type": "code",
   "execution_count": 11,
   "id": "b4a034ca",
   "metadata": {},
   "outputs": [],
   "source": [
    "setattr(a, \"b\", 10)"
   ]
  },
  {
   "cell_type": "code",
   "execution_count": 12,
   "id": "6f0f2773",
   "metadata": {},
   "outputs": [
    {
     "data": {
      "text/plain": [
       "10"
      ]
     },
     "execution_count": 12,
     "metadata": {},
     "output_type": "execute_result"
    }
   ],
   "source": [
    "a.b"
   ]
  },
  {
   "cell_type": "code",
   "execution_count": null,
   "id": "b389b4b0",
   "metadata": {},
   "outputs": [],
   "source": []
  },
  {
   "cell_type": "code",
   "execution_count": 13,
   "id": "bc85d344",
   "metadata": {},
   "outputs": [],
   "source": [
    "import sys\n",
    "sys.path.insert(0, \"..\")"
   ]
  },
  {
   "cell_type": "code",
   "execution_count": 14,
   "id": "7f0bc058",
   "metadata": {},
   "outputs": [],
   "source": [
    "from NeuralNetworks import SequentialNeuralNetwork\n",
    "from Layers import DenseLayer"
   ]
  },
  {
   "cell_type": "code",
   "execution_count": 15,
   "id": "b6e43b6d",
   "metadata": {},
   "outputs": [],
   "source": [
    "test = SequentialNeuralNetwork()"
   ]
  },
  {
   "cell_type": "code",
   "execution_count": 16,
   "id": "17da3e38",
   "metadata": {},
   "outputs": [
    {
     "data": {
      "text/plain": [
       "SequentialNeuralNetwork(NeuralNetwork):\n",
       "*cricket sounds*"
      ]
     },
     "execution_count": 16,
     "metadata": {},
     "output_type": "execute_result"
    }
   ],
   "source": [
    "test"
   ]
  },
  {
   "cell_type": "code",
   "execution_count": 17,
   "id": "5da94bb5",
   "metadata": {},
   "outputs": [
    {
     "data": {
      "text/plain": [
       "SequentialNeuralNetwork(NeuralNetwork):\n",
       "nPUBEQdBaM: DenseLayer(\n",
       "\tinput size: 2, output size: 3, activation function: sigmoid\n",
       ")"
      ]
     },
     "execution_count": 17,
     "metadata": {},
     "output_type": "execute_result"
    }
   ],
   "source": [
    "test.add(DenseLayer(2, 3))"
   ]
  },
  {
   "cell_type": "code",
   "execution_count": 18,
   "id": "793dba78",
   "metadata": {},
   "outputs": [
    {
     "data": {
      "text/plain": [
       "SequentialNeuralNetwork(NeuralNetwork):\n",
       "nPUBEQdBaM: DenseLayer(\n",
       "\tinput size: 2, output size: 3, activation function: sigmoid\n",
       ")"
      ]
     },
     "execution_count": 18,
     "metadata": {},
     "output_type": "execute_result"
    }
   ],
   "source": [
    "test"
   ]
  },
  {
   "cell_type": "code",
   "execution_count": 19,
   "id": "30f5f75b",
   "metadata": {},
   "outputs": [
    {
     "data": {
      "text/plain": [
       "SequentialNeuralNetwork(NeuralNetwork):\n",
       "nPUBEQdBaM: DenseLayer(\n",
       "\tinput size: 2, output size: 3, activation function: sigmoid\n",
       ")\n",
       "pMKoXjnAPr: DenseLayer(\n",
       "\tinput size: 3, output size: 4, activation function: sigmoid\n",
       ")"
      ]
     },
     "execution_count": 19,
     "metadata": {},
     "output_type": "execute_result"
    }
   ],
   "source": [
    "test.add([DenseLayer(3, 4)])"
   ]
  },
  {
   "cell_type": "code",
   "execution_count": 20,
   "id": "faf8af58",
   "metadata": {},
   "outputs": [
    {
     "data": {
      "text/plain": [
       "SequentialNeuralNetwork(NeuralNetwork):\n",
       "nPUBEQdBaM: DenseLayer(\n",
       "\tinput size: 2, output size: 3, activation function: sigmoid\n",
       ")\n",
       "pMKoXjnAPr: DenseLayer(\n",
       "\tinput size: 3, output size: 4, activation function: sigmoid\n",
       ")\n",
       "tCeWGgSeIO: DenseLayer(\n",
       "\tinput size: 3, output size: 4, activation function: sigmoid\n",
       ")"
      ]
     },
     "execution_count": 20,
     "metadata": {},
     "output_type": "execute_result"
    }
   ],
   "source": [
    "test.add((DenseLayer(3, 4)))"
   ]
  },
  {
   "cell_type": "code",
   "execution_count": 21,
   "id": "5fa9e834",
   "metadata": {},
   "outputs": [
    {
     "data": {
      "text/plain": [
       "SequentialNeuralNetwork(NeuralNetwork):\n",
       "nPUBEQdBaM: DenseLayer(\n",
       "\tinput size: 2, output size: 3, activation function: sigmoid\n",
       ")\n",
       "pMKoXjnAPr: DenseLayer(\n",
       "\tinput size: 3, output size: 4, activation function: sigmoid\n",
       ")\n",
       "tCeWGgSeIO: DenseLayer(\n",
       "\tinput size: 3, output size: 4, activation function: sigmoid\n",
       ")\n",
       "aaa: DenseLayer(\n",
       "\tinput size: 3, output size: 4, activation function: sigmoid\n",
       ")\n",
       "bbb: DenseLayer(\n",
       "\tinput size: 3, output size: 4, activation function: sigmoid\n",
       ")"
      ]
     },
     "execution_count": 21,
     "metadata": {},
     "output_type": "execute_result"
    }
   ],
   "source": [
    "test.add({\"aaa\": DenseLayer(3, 4), \"bbb\": DenseLayer(3, 4)})"
   ]
  },
  {
   "cell_type": "code",
   "execution_count": 22,
   "id": "a6347760",
   "metadata": {},
   "outputs": [
    {
     "data": {
      "text/plain": [
       "SequentialNeuralNetwork(NeuralNetwork):\n",
       "nPUBEQdBaM: DenseLayer(\n",
       "\tinput size: 2, output size: 3, activation function: sigmoid\n",
       ")\n",
       "pMKoXjnAPr: DenseLayer(\n",
       "\tinput size: 3, output size: 4, activation function: sigmoid\n",
       ")\n",
       "tCeWGgSeIO: DenseLayer(\n",
       "\tinput size: 3, output size: 4, activation function: sigmoid\n",
       ")\n",
       "aaa: DenseLayer(\n",
       "\tinput size: 3, output size: 4, activation function: sigmoid\n",
       ")\n",
       "bbb: DenseLayer(\n",
       "\tinput size: 3, output size: 4, activation function: sigmoid\n",
       ")"
      ]
     },
     "execution_count": 22,
     "metadata": {},
     "output_type": "execute_result"
    }
   ],
   "source": [
    "test"
   ]
  },
  {
   "cell_type": "code",
   "execution_count": 23,
   "id": "107cc81e",
   "metadata": {},
   "outputs": [
    {
     "data": {
      "text/plain": [
       "SequentialNeuralNetwork(NeuralNetwork):\n",
       "nPUBEQdBaM: DenseLayer(\n",
       "\tinput size: 2, output size: 3, activation function: sigmoid\n",
       ")\n",
       "pMKoXjnAPr: DenseLayer(\n",
       "\tinput size: 3, output size: 4, activation function: sigmoid\n",
       ")\n",
       "tCeWGgSeIO: DenseLayer(\n",
       "\tinput size: 3, output size: 4, activation function: sigmoid\n",
       ")\n",
       "aaa: DenseLayer(\n",
       "\tinput size: 3, output size: 4, activation function: sigmoid\n",
       ")"
      ]
     },
     "execution_count": 23,
     "metadata": {},
     "output_type": "execute_result"
    }
   ],
   "source": [
    "test.delete()"
   ]
  },
  {
   "cell_type": "code",
   "execution_count": 24,
   "id": "ad2ed16f",
   "metadata": {},
   "outputs": [
    {
     "name": "stdout",
     "output_type": "stream",
     "text": [
      "No layers to delete\n"
     ]
    }
   ],
   "source": [
    "test.delete(\"iIsYSXPiop\")"
   ]
  },
  {
   "cell_type": "code",
   "execution_count": 25,
   "id": "c3c757a9",
   "metadata": {},
   "outputs": [
    {
     "name": "stdout",
     "output_type": "stream",
     "text": [
      "No layers to delete\n"
     ]
    }
   ],
   "source": [
    "test.delete([\"idzvTsodRP\", \"rKAWZRcHNf\",])"
   ]
  },
  {
   "cell_type": "code",
   "execution_count": null,
   "id": "a99e03bc",
   "metadata": {},
   "outputs": [],
   "source": []
  },
  {
   "cell_type": "code",
   "execution_count": 26,
   "id": "43d873b9",
   "metadata": {},
   "outputs": [],
   "source": [
    "import numpy as np"
   ]
  },
  {
   "cell_type": "code",
   "execution_count": 27,
   "id": "1a259861",
   "metadata": {},
   "outputs": [
    {
     "ename": "ValueError",
     "evalue": "matmul: Input operand 1 has a mismatch in its core dimension 0, with gufunc signature (n?,k),(k,m?)->(n?,m?) (size 3 is different from 4)",
     "output_type": "error",
     "traceback": [
      "\u001b[1;31m---------------------------------------------------------------------------\u001b[0m",
      "\u001b[1;31mValueError\u001b[0m                                Traceback (most recent call last)",
      "Cell \u001b[1;32mIn[27], line 1\u001b[0m\n\u001b[1;32m----> 1\u001b[0m \u001b[43mtest\u001b[49m\u001b[43m(\u001b[49m\u001b[43mnp\u001b[49m\u001b[38;5;241;43m.\u001b[39;49m\u001b[43marray\u001b[49m\u001b[43m(\u001b[49m\u001b[43m[\u001b[49m\u001b[38;5;241;43m1\u001b[39;49m\u001b[43m,\u001b[49m\u001b[43m \u001b[49m\u001b[38;5;241;43m0\u001b[39;49m\u001b[43m]\u001b[49m\u001b[43m)\u001b[49m\u001b[43m)\u001b[49m\n",
      "File \u001b[1;32m~\\PycharmProjects\\NeuralNetworksConstructor\\tests\\..\\NeuralNetworks\\NeuralNetwork.py:169\u001b[0m, in \u001b[0;36mNeuralNetwork.__call__\u001b[1;34m(self, x)\u001b[0m\n\u001b[0;32m    160\u001b[0m \u001b[38;5;28;01mdef\u001b[39;00m \u001b[38;5;21m__call__\u001b[39m(\u001b[38;5;28mself\u001b[39m, x: np\u001b[38;5;241m.\u001b[39mndarray) \u001b[38;5;241m-\u001b[39m\u001b[38;5;241m>\u001b[39m np\u001b[38;5;241m.\u001b[39mndarray:\n\u001b[0;32m    161\u001b[0m     \u001b[38;5;124;03m\"\"\"\u001b[39;00m\n\u001b[0;32m    162\u001b[0m \u001b[38;5;124;03m    Calls forward() method.\u001b[39;00m\n\u001b[0;32m    163\u001b[0m \u001b[38;5;124;03m    -----\u001b[39;00m\n\u001b[1;32m   (...)\u001b[0m\n\u001b[0;32m    167\u001b[0m \u001b[38;5;124;03m        numpy array of local gradients\u001b[39;00m\n\u001b[0;32m    168\u001b[0m \u001b[38;5;124;03m    \"\"\"\u001b[39;00m\n\u001b[1;32m--> 169\u001b[0m     \u001b[38;5;28;01mreturn\u001b[39;00m \u001b[38;5;28;43mself\u001b[39;49m\u001b[38;5;241;43m.\u001b[39;49m\u001b[43mforward\u001b[49m\u001b[43m(\u001b[49m\u001b[43mx\u001b[49m\u001b[43m)\u001b[49m\n",
      "File \u001b[1;32m~\\PycharmProjects\\NeuralNetworksConstructor\\tests\\..\\NeuralNetworks\\NeuralNetwork.py:29\u001b[0m, in \u001b[0;36mNeuralNetwork.forward\u001b[1;34m(self, x)\u001b[0m\n\u001b[0;32m     19\u001b[0m \u001b[38;5;124;03m\"\"\"\u001b[39;00m\n\u001b[0;32m     20\u001b[0m \u001b[38;5;124;03mDoes the forward propagation of the data.\u001b[39;00m\n\u001b[0;32m     21\u001b[0m \u001b[38;5;124;03m-----\u001b[39;00m\n\u001b[1;32m   (...)\u001b[0m\n\u001b[0;32m     26\u001b[0m \u001b[38;5;124;03m    resulting output (prediction)\u001b[39;00m\n\u001b[0;32m     27\u001b[0m \u001b[38;5;124;03m\"\"\"\u001b[39;00m\n\u001b[0;32m     28\u001b[0m \u001b[38;5;28;01mfor\u001b[39;00m layer \u001b[38;5;129;01min\u001b[39;00m \u001b[38;5;28mself\u001b[39m:\n\u001b[1;32m---> 29\u001b[0m     x \u001b[38;5;241m=\u001b[39m \u001b[43mlayer\u001b[49m\u001b[43m(\u001b[49m\u001b[43mx\u001b[49m\u001b[43m)\u001b[49m\n\u001b[0;32m     31\u001b[0m \u001b[38;5;28;01mreturn\u001b[39;00m x\u001b[38;5;241m.\u001b[39msqueeze()\n",
      "File \u001b[1;32m~\\PycharmProjects\\NeuralNetworksConstructor\\tests\\..\\Layers\\Layer.py:61\u001b[0m, in \u001b[0;36mLayer.__call__\u001b[1;34m(self, x)\u001b[0m\n\u001b[0;32m     52\u001b[0m \u001b[38;5;28;01mdef\u001b[39;00m \u001b[38;5;21m__call__\u001b[39m(\u001b[38;5;28mself\u001b[39m, x: np\u001b[38;5;241m.\u001b[39mndarray) \u001b[38;5;241m-\u001b[39m\u001b[38;5;241m>\u001b[39m np\u001b[38;5;241m.\u001b[39mndarray:\n\u001b[0;32m     53\u001b[0m     \u001b[38;5;124;03m\"\"\"\u001b[39;00m\n\u001b[0;32m     54\u001b[0m \u001b[38;5;124;03m    Calls forward() method.\u001b[39;00m\n\u001b[0;32m     55\u001b[0m \u001b[38;5;124;03m    -----\u001b[39;00m\n\u001b[1;32m   (...)\u001b[0m\n\u001b[0;32m     59\u001b[0m \u001b[38;5;124;03m        numpy array of local gradients\u001b[39;00m\n\u001b[0;32m     60\u001b[0m \u001b[38;5;124;03m    \"\"\"\u001b[39;00m\n\u001b[1;32m---> 61\u001b[0m     \u001b[38;5;28;01mreturn\u001b[39;00m \u001b[38;5;28;43mself\u001b[39;49m\u001b[38;5;241;43m.\u001b[39;49m\u001b[43mforward\u001b[49m\u001b[43m(\u001b[49m\u001b[43mx\u001b[49m\u001b[43m)\u001b[49m\n",
      "File \u001b[1;32m~\\PycharmProjects\\NeuralNetworksConstructor\\tests\\..\\Layers\\DenseLayer.py:41\u001b[0m, in \u001b[0;36mDenseLayer.forward\u001b[1;34m(self, data)\u001b[0m\n\u001b[0;32m     31\u001b[0m \u001b[38;5;28;01mdef\u001b[39;00m \u001b[38;5;21mforward\u001b[39m(\u001b[38;5;28mself\u001b[39m, data: np\u001b[38;5;241m.\u001b[39mndarray) \u001b[38;5;241m-\u001b[39m\u001b[38;5;241m>\u001b[39m np\u001b[38;5;241m.\u001b[39mndarray:\n\u001b[0;32m     32\u001b[0m     \u001b[38;5;124;03m\"\"\"\u001b[39;00m\n\u001b[0;32m     33\u001b[0m \u001b[38;5;124;03m    Does the forward propagation of the data using liner transformations.\u001b[39;00m\n\u001b[0;32m     34\u001b[0m \u001b[38;5;124;03m    -----\u001b[39;00m\n\u001b[1;32m   (...)\u001b[0m\n\u001b[0;32m     39\u001b[0m \u001b[38;5;124;03m        resulting numpy array of transformed data\u001b[39;00m\n\u001b[0;32m     40\u001b[0m \u001b[38;5;124;03m    \"\"\"\u001b[39;00m\n\u001b[1;32m---> 41\u001b[0m     result \u001b[38;5;241m=\u001b[39m \u001b[43mdata\u001b[49m\u001b[43m \u001b[49m\u001b[38;5;241;43m@\u001b[39;49m\u001b[43m \u001b[49m\u001b[38;5;28;43mself\u001b[39;49m\u001b[38;5;241;43m.\u001b[39;49m\u001b[43m_weights\u001b[49m\u001b[38;5;241;43m.\u001b[39;49m\u001b[43mT\u001b[49m \u001b[38;5;241m+\u001b[39m \u001b[38;5;28mself\u001b[39m\u001b[38;5;241m.\u001b[39m_bias\u001b[38;5;241m.\u001b[39mT\n\u001b[0;32m     42\u001b[0m     \u001b[38;5;28;01mif\u001b[39;00m \u001b[38;5;129;01mnot\u001b[39;00m \u001b[38;5;28mself\u001b[39m\u001b[38;5;241m.\u001b[39m_save_memory:\n\u001b[0;32m     43\u001b[0m         \u001b[38;5;28mself\u001b[39m\u001b[38;5;241m.\u001b[39mweighted_sum \u001b[38;5;241m=\u001b[39m result\n",
      "\u001b[1;31mValueError\u001b[0m: matmul: Input operand 1 has a mismatch in its core dimension 0, with gufunc signature (n?,k),(k,m?)->(n?,m?) (size 3 is different from 4)"
     ]
    }
   ],
   "source": [
    "test(np.array([1, 0]))"
   ]
  },
  {
   "cell_type": "code",
   "execution_count": null,
   "id": "f99274ff",
   "metadata": {},
   "outputs": [],
   "source": [
    "test.delete()"
   ]
  },
  {
   "cell_type": "code",
   "execution_count": null,
   "id": "46572140",
   "metadata": {},
   "outputs": [],
   "source": [
    "test.delete()"
   ]
  },
  {
   "cell_type": "code",
   "execution_count": null,
   "id": "67d7c852",
   "metadata": {},
   "outputs": [],
   "source": [
    "# test.delete()"
   ]
  },
  {
   "cell_type": "code",
   "execution_count": null,
   "id": "f50e68ca",
   "metadata": {},
   "outputs": [],
   "source": [
    "# test.add(\"Layer\")"
   ]
  },
  {
   "cell_type": "code",
   "execution_count": null,
   "id": "3eca9e16",
   "metadata": {},
   "outputs": [],
   "source": [
    "import numpy as np"
   ]
  },
  {
   "cell_type": "code",
   "execution_count": null,
   "id": "c1cdb3a3",
   "metadata": {},
   "outputs": [],
   "source": [
    "a = np.arange(27).reshape([3, 3, 3])\n",
    "a"
   ]
  },
  {
   "cell_type": "code",
   "execution_count": null,
   "id": "b0f8ad50",
   "metadata": {},
   "outputs": [],
   "source": [
    "np.swapaxes(a, 0, 1)"
   ]
  },
  {
   "cell_type": "code",
   "execution_count": null,
   "id": "8bbb5d02",
   "metadata": {},
   "outputs": [],
   "source": [
    "bool({})"
   ]
  },
  {
   "cell_type": "code",
   "execution_count": null,
   "id": "a8867c31",
   "metadata": {},
   "outputs": [],
   "source": []
  }
 ],
 "metadata": {
  "kernelspec": {
   "display_name": "Python [conda env:NN]",
   "language": "python",
   "name": "conda-env-NN-py"
  },
  "language_info": {
   "codemirror_mode": {
    "name": "ipython",
    "version": 3
   },
   "file_extension": ".py",
   "mimetype": "text/x-python",
   "name": "python",
   "nbconvert_exporter": "python",
   "pygments_lexer": "ipython3",
   "version": "3.10.9"
  }
 },
 "nbformat": 4,
 "nbformat_minor": 5
}
