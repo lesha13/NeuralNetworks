{
 "cells": [
  {
   "cell_type": "code",
   "execution_count": 1,
   "id": "dac385ad",
   "metadata": {},
   "outputs": [],
   "source": [
    "import numpy as np\n",
    "import pandas as pd\n",
    "from PIL import Image"
   ]
  },
  {
   "cell_type": "code",
   "execution_count": 2,
   "id": "b5cf0585",
   "metadata": {},
   "outputs": [],
   "source": [
    "train_data = pd.read_csv(\"../data/MNIST_handwritten_digits/mnist_train.csv\")\n",
    "test_data = pd.read_csv(\"../data/MNIST_handwritten_digits/mnist_test.csv\")"
   ]
  },
  {
   "cell_type": "code",
   "execution_count": 3,
   "id": "8b0c8698",
   "metadata": {},
   "outputs": [],
   "source": [
    "x_train = train_data.iloc[::, 1::].to_numpy().astype(float).reshape([60000, 28, 28])\n",
    "y_train = train_data.iloc[::, 0].to_numpy().astype(int)\n",
    "x_test = test_data.iloc[::, 1::].to_numpy().astype(float).reshape([10000, 28, 28])\n",
    "y_test = test_data.iloc[::, 0].to_numpy().astype(int)"
   ]
  },
  {
   "cell_type": "code",
   "execution_count": 4,
   "id": "61bb7cd6",
   "metadata": {},
   "outputs": [],
   "source": [
    "x_train_binary = x_train[(y_train == 0) | (y_train == 1)]\n",
    "y_train_binary = y_train[(y_train == 0) | (y_train == 1)]\n",
    "x_test_binary = x_train[(y_train == 0) | (y_train == 1)]\n",
    "y_test_binary = y_train[(y_train == 0) | (y_train == 1)]"
   ]
  },
  {
   "cell_type": "code",
   "execution_count": 5,
   "id": "7cae2d6d",
   "metadata": {},
   "outputs": [
    {
     "data": {
      "image/png": "[encoded data removed]",
      "text/plain": [
       "<PIL.Image.Image image mode=RGB size=28x28>"
      ]
     },
     "execution_count": 5,
     "metadata": {},
     "output_type": "execute_result"
    }
   ],
   "source": [
    "Image.fromarray(x_train_binary[0]).convert(\"RGB\")"
   ]
  },
  {
   "cell_type": "code",
   "execution_count": 6,
   "id": "82226a2d",
   "metadata": {},
   "outputs": [
    {
     "data": {
      "image/png": "[encoded data removed]",
      "text/plain": [
       "<PIL.Image.Image image mode=RGB size=28x28>"
      ]
     },
     "execution_count": 6,
     "metadata": {},
     "output_type": "execute_result"
    }
   ],
   "source": [
    "Image.fromarray(x_train_binary[1]).convert(\"RGB\")"
   ]
  },
  {
   "cell_type": "code",
   "execution_count": 7,
   "id": "e8765edf",
   "metadata": {},
   "outputs": [],
   "source": [
    "import sys\n",
    "sys.path.insert(0, \"..\")"
   ]
  },
  {
   "cell_type": "code",
   "execution_count": 8,
   "id": "a0b59bed",
   "metadata": {},
   "outputs": [],
   "source": [
    "from data_preprocessing import normalize"
   ]
  },
  {
   "cell_type": "code",
   "execution_count": 9,
   "id": "8fe134ee",
   "metadata": {},
   "outputs": [],
   "source": [
    "x_train_binary = normalize(x_train_binary)[::, np.newaxis, ...]\n",
    "x_test_binary = normalize(x_test_binary)[::, np.newaxis, ...]"
   ]
  },
  {
   "cell_type": "code",
   "execution_count": 10,
   "id": "a84f70e3",
   "metadata": {},
   "outputs": [],
   "source": [
    "import warnings\n",
    "warnings.filterwarnings(\"ignore\")"
   ]
  },
  {
   "cell_type": "code",
   "execution_count": 11,
   "id": "ba030240",
   "metadata": {},
   "outputs": [],
   "source": [
    "from NeuralNetworks import CNNb"
   ]
  },
  {
   "cell_type": "code",
   "execution_count": 12,
   "id": "e087cb33",
   "metadata": {
    "scrolled": false
   },
   "outputs": [
    {
     "data": {
      "text/plain": [
       "CNNb(NeuralNetwork):\n",
       "conv_layer1: Conv2dLayer(\n",
       "\tinput channels: 1, output channels: 5, \n",
       "\tlength: 28, width: 28, kernel size: 3, \n",
       "\tactivation function: ReLU\n",
       ")\n",
       "max_pool_layer1: MaxPool2dLayer()\n",
       "conv_layer2: Conv2dLayer(\n",
       "\tinput channels: 5, output channels: 20, \n",
       "\tlength: 13, width: 13, kernel size: 3, \n",
       "\tactivation function: ReLU\n",
       ")\n",
       "max_pool_layer2: MaxPool2dLayer()\n",
       "flatten_layer: FlattenLayer()\n",
       "dense_layer1: DenseLayer(\n",
       "\tinput size: 500, output size: 250, activation function: sigmoid\n",
       ")\n",
       "dense_layer2: DenseLayer(\n",
       "\tinput size: 250, output size: 1, activation function: sigmoid\n",
       ")"
      ]
     },
     "execution_count": 12,
     "metadata": {},
     "output_type": "execute_result"
    }
   ],
   "source": [
    "test = CNNb()\n",
    "test"
   ]
  },
  {
   "cell_type": "code",
   "execution_count": 13,
   "id": "820ae522",
   "metadata": {},
   "outputs": [
    {
     "data": {
      "text/plain": [
       "(array(0.37422312), 0, array(0.35187186), 1)"
      ]
     },
     "execution_count": 13,
     "metadata": {},
     "output_type": "execute_result"
    }
   ],
   "source": [
    "test(x_train_binary[0]), y_train_binary[0], test(x_train_binary[1]), y_train_binary[1]"
   ]
  },
  {
   "cell_type": "code",
   "execution_count": 14,
   "id": "3a804f5b",
   "metadata": {},
   "outputs": [],
   "source": [
    "n_samples = 120"
   ]
  },
  {
   "cell_type": "code",
   "execution_count": 15,
   "id": "3ffb0705",
   "metadata": {},
   "outputs": [
    {
     "name": "stdout",
     "output_type": "stream",
     "text": [
      "Epoch: 0\n",
      "\tLoss: 0.5128831915271488\n",
      "Epoch: 1\n",
      "\tLoss: 0.49867594059064685\n",
      "Epoch: 2\n",
      "\tLoss: 0.4514117559162744\n",
      "Epoch: 3\n",
      "\tLoss: 0.362489509009681\n",
      "Epoch: 4\n",
      "\tLoss: 0.2814426412655196\n",
      "Epoch: 5\n",
      "\tLoss: 0.22033538421475415\n",
      "Epoch: 6\n",
      "\tLoss: 0.17656377681161878\n",
      "Epoch: 7\n",
      "\tLoss: 0.14546798251032342\n",
      "Epoch: 8\n",
      "\tLoss: 0.12234882144507239\n",
      "Epoch: 9\n",
      "\tLoss: 0.10476955113274748\n",
      "Epoch: 10\n",
      "\tLoss: 0.09114817316415878\n",
      "Epoch: 11\n",
      "\tLoss: 0.08040975164870938\n",
      "Epoch: 12\n",
      "\tLoss: 0.07180834474408163\n",
      "Epoch: 13\n",
      "\tLoss: 0.06471127556724683\n",
      "Epoch: 14\n",
      "\tLoss: 0.058858994628048424\n",
      "Epoch: 15\n",
      "\tLoss: 0.053930939878194\n",
      "Epoch: 16\n",
      "\tLoss: 0.04976651555797964\n",
      "Epoch: 17\n",
      "\tLoss: 0.046220851514800536\n",
      "Epoch: 18\n",
      "\tLoss: 0.043158396954273856\n",
      "Epoch: 19\n",
      "\tLoss: 0.04051200794495211\n",
      "train() executed in 0:05:28.050379.\n"
     ]
    }
   ],
   "source": [
    "test.train(x_train_binary[:n_samples:], y_train_binary[:n_samples:], epochs=20, lr=0.001)\n",
    "# test.train(x_train_binary[:n_samples:], y_train_binary[:n_samples:], epochs=10, lr=[0.001, 0.001, 0.001, 0.001])"
   ]
  },
  {
   "cell_type": "code",
   "execution_count": 16,
   "id": "623b3be4",
   "metadata": {},
   "outputs": [
    {
     "data": {
      "text/plain": [
       "(array(0.03113291), 0, array(0.97478876), 1)"
      ]
     },
     "execution_count": 16,
     "metadata": {},
     "output_type": "execute_result"
    }
   ],
   "source": [
    "test(x_train_binary[0]), y_train_binary[0], test(x_train_binary[1]), y_train_binary[1]"
   ]
  },
  {
   "cell_type": "code",
   "execution_count": 17,
   "id": "c196caa9",
   "metadata": {},
   "outputs": [],
   "source": [
    "n_samples = 600"
   ]
  },
  {
   "cell_type": "code",
   "execution_count": 18,
   "id": "11b2d335",
   "metadata": {},
   "outputs": [],
   "source": [
    "res = np.round(np.array([test(_) for _ in x_test_binary[:n_samples:]]))"
   ]
  },
  {
   "cell_type": "code",
   "execution_count": 19,
   "id": "a35fa70c",
   "metadata": {
    "scrolled": true
   },
   "outputs": [
    {
     "data": {
      "text/plain": [
       "0.995"
      ]
     },
     "execution_count": 19,
     "metadata": {},
     "output_type": "execute_result"
    }
   ],
   "source": [
    "(res == y_test_binary[:n_samples:]).sum() / n_samples"
   ]
  },
  {
   "cell_type": "code",
   "execution_count": null,
   "id": "34516c9d",
   "metadata": {},
   "outputs": [],
   "source": []
  }
 ],
 "metadata": {
  "kernelspec": {
   "display_name": "Python [conda env:NN]",
   "language": "python",
   "name": "conda-env-NN-py"
  },
  "language_info": {
   "codemirror_mode": {
    "name": "ipython",
    "version": 3
   },
   "file_extension": ".py",
   "mimetype": "text/x-python",
   "name": "python",
   "nbconvert_exporter": "python",
   "pygments_lexer": "ipython3",
   "version": "3.10.9"
  }
 },
 "nbformat": 4,
 "nbformat_minor": 5
}
