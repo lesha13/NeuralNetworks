{
 "cells": [
  {
   "cell_type": "code",
   "execution_count": 1,
   "id": "247c4c6a",
   "metadata": {},
   "outputs": [],
   "source": [
    "import numpy as np\n",
    "import matplotlib.pyplot as plt\n",
    "from sklearn.datasets import make_blobs\n",
    "from sklearn.model_selection import train_test_split"
   ]
  },
  {
   "cell_type": "code",
   "execution_count": 2,
   "id": "9f08daa0",
   "metadata": {},
   "outputs": [],
   "source": [
    "n_samples = 200\n",
    "n_features = 2\n",
    "centers = 4"
   ]
  },
  {
   "cell_type": "code",
   "execution_count": 3,
   "id": "f2ca1d23",
   "metadata": {},
   "outputs": [
    {
     "data": {
      "text/plain": [
       "((200, 2), (200,))"
      ]
     },
     "execution_count": 3,
     "metadata": {},
     "output_type": "execute_result"
    }
   ],
   "source": [
    "x, y = make_blobs(n_samples=n_samples, n_features=n_features, centers=centers, random_state=3)\n",
    "x.shape, y.shape"
   ]
  },
  {
   "cell_type": "code",
   "execution_count": 4,
   "id": "befdb983",
   "metadata": {},
   "outputs": [
    {
     "data": {
      "text/plain": [
       "<matplotlib.collections.PathCollection at 0x2774c892020>"
      ]
     },
     "execution_count": 4,
     "metadata": {},
     "output_type": "execute_result"
    },
    {
     "data": {
      "image/png": "[encoded data removed]",
      "text/plain": [
       "<Figure size 640x480 with 1 Axes>"
      ]
     },
     "metadata": {},
     "output_type": "display_data"
    }
   ],
   "source": [
    "plt.scatter(x[:, 0][y == 0], x[:, 1][y == 0], c=\"b\")\n",
    "plt.scatter(x[:, 0][y == 1], x[:, 1][y == 1], c=\"r\")\n",
    "plt.scatter(x[:, 0][y == 2], x[:, 1][y == 2], c=\"y\")\n",
    "plt.scatter(x[:, 0][y == 3], x[:, 1][y == 3], c=\"g\")"
   ]
  },
  {
   "cell_type": "code",
   "execution_count": 5,
   "id": "3eef3dcf",
   "metadata": {},
   "outputs": [],
   "source": [
    "dummy = np.zeros([n_samples, centers])\n",
    "dummy[np.arange(y.size), y] = 1\n",
    "y = dummy"
   ]
  },
  {
   "cell_type": "code",
   "execution_count": 6,
   "id": "4b031f4b",
   "metadata": {},
   "outputs": [
    {
     "data": {
      "text/plain": [
       "((150, 2), (50, 2), (150, 4), (50, 4))"
      ]
     },
     "execution_count": 6,
     "metadata": {},
     "output_type": "execute_result"
    }
   ],
   "source": [
    "x_train, x_test, y_train, y_test = train_test_split(x, y)\n",
    "x_train.shape, x_test.shape, y_train.shape, y_test.shape"
   ]
  },
  {
   "cell_type": "code",
   "execution_count": 7,
   "id": "d288f823",
   "metadata": {},
   "outputs": [],
   "source": [
    "import sys\n",
    "sys.path.insert(0, \"..\")"
   ]
  },
  {
   "cell_type": "code",
   "execution_count": 8,
   "id": "81b46731",
   "metadata": {},
   "outputs": [],
   "source": [
    "from NeuralNetworks import NNm"
   ]
  },
  {
   "cell_type": "code",
   "execution_count": 9,
   "id": "5e3bbc21",
   "metadata": {},
   "outputs": [
    {
     "data": {
      "text/plain": [
       "NNm(NeuralNetwork):\n",
       "dense_layer1: DenseLayer(\n",
       "\tinput size: 2, output size: 10, activation function: sigmoid\n",
       ")\n",
       "dense_layer2: DenseLayer(\n",
       "\tinput size: 10, output size: 5, activation function: sigmoid\n",
       ")\n",
       "dense_layer3: DenseLayer(\n",
       "\tinput size: 5, output size: 4, activation function: softmax\n",
       ")"
      ]
     },
     "execution_count": 9,
     "metadata": {},
     "output_type": "execute_result"
    }
   ],
   "source": [
    "test = NNm()\n",
    "test"
   ]
  },
  {
   "cell_type": "code",
   "execution_count": 10,
   "id": "72acb30b",
   "metadata": {
    "scrolled": true
   },
   "outputs": [
    {
     "name": "stdout",
     "output_type": "stream",
     "text": [
      "Epoch: 0\n",
      "\tLoss: 1.4710455076283325e-17\n",
      "Epoch: 1\n",
      "\tLoss: 1.410908427127803e-17\n",
      "Epoch: 2\n",
      "\tLoss: 1.6329530320528345e-17\n",
      "Epoch: 3\n",
      "\tLoss: 1.4525417905512464e-17\n",
      "Epoch: 4\n",
      "\tLoss: 1.4710455076283325e-17\n",
      "Epoch: 5\n",
      "\tLoss: 1.3970306393199886e-17\n",
      "Epoch: 6\n",
      "\tLoss: 1.3785269222429026e-17\n",
      "Epoch: 7\n",
      "\tLoss: 1.5265566588595904e-17\n",
      "Epoch: 8\n",
      "\tLoss: 1.609823385706477e-17\n",
      "Epoch: 9\n",
      "\tLoss: 1.457167719820518e-17\n",
      "Epoch: 10\n",
      "\tLoss: 1.438664002743432e-17\n",
      "Epoch: 11\n",
      "\tLoss: 1.5866937393601195e-17\n",
      "Epoch: 12\n",
      "\tLoss: 1.5866937393601195e-17\n",
      "Epoch: 13\n",
      "\tLoss: 1.3600232051658167e-17\n",
      "Epoch: 14\n",
      "\tLoss: 1.7647920162270718e-17\n",
      "Epoch: 15\n",
      "\tLoss: 1.7856086979387934e-17\n",
      "Epoch: 16\n",
      "\tLoss: 1.7486012637846216e-17\n",
      "Epoch: 17\n",
      "\tLoss: 1.8388068845354155e-17\n",
      "Epoch: 18\n",
      "\tLoss: 1.8283985436795545e-17\n",
      "Epoch: 19\n",
      "\tLoss: 1.897787482718627e-17\n",
      "Epoch: 20\n",
      "\tLoss: 1.7821392509868398e-17\n",
      "Epoch: 21\n",
      "\tLoss: 1.8203031674583297e-17\n",
      "Epoch: 22\n",
      "\tLoss: 1.915712958637054e-17\n",
      "Epoch: 23\n",
      "\tLoss: 1.7133285531064265e-17\n",
      "Epoch: 24\n",
      "\tLoss: 1.889113865338743e-17\n",
      "Epoch: 25\n",
      "\tLoss: 1.965152577702393e-17\n",
      "Epoch: 26\n",
      "\tLoss: 1.769417945496343e-17\n",
      "Epoch: 27\n",
      "\tLoss: 1.9998470472219293e-17\n",
      "Epoch: 28\n",
      "\tLoss: 1.9284342641275506e-17\n",
      "Epoch: 29\n",
      "\tLoss: 1.73848204350809e-17\n",
      "Epoch: 30\n",
      "\tLoss: 1.7387711640874197e-17\n",
      "Epoch: 31\n",
      "\tLoss: 1.775489477662262e-17\n",
      "Epoch: 32\n",
      "\tLoss: 1.7887890243114177e-17\n",
      "Epoch: 33\n",
      "\tLoss: 1.64350593319836e-17\n",
      "Epoch: 34\n",
      "\tLoss: 1.4938860333953603e-17\n",
      "Epoch: 35\n",
      "\tLoss: 1.7004626873262652e-17\n",
      "Epoch: 36\n",
      "\tLoss: 1.5975357610849746e-17\n",
      "Epoch: 37\n",
      "\tLoss: 1.5738278735799582e-17\n",
      "Epoch: 38\n",
      "\tLoss: 1.7324105113421713e-17\n",
      "Epoch: 39\n",
      "\tLoss: 1.5376878011637746e-17\n",
      "Epoch: 40\n",
      "\tLoss: 1.5861154982014605e-17\n",
      "Epoch: 41\n",
      "\tLoss: 1.5728882316971374e-17\n",
      "Epoch: 42\n",
      "\tLoss: 1.592692991381206e-17\n",
      "Epoch: 43\n",
      "\tLoss: 1.5559023976615312e-17\n",
      "Epoch: 44\n",
      "\tLoss: 1.6080886622305e-17\n",
      "Epoch: 45\n",
      "\tLoss: 1.518822683362527e-17\n",
      "Epoch: 46\n",
      "\tLoss: 1.408161781624173e-17\n",
      "Epoch: 47\n",
      "\tLoss: 1.2930195109062126e-17\n",
      "Epoch: 48\n",
      "\tLoss: 1.5155700768450704e-17\n",
      "Epoch: 49\n",
      "\tLoss: 1.654347954923215e-17\n",
      "train() executed in 0:00:00.823793.\n"
     ]
    }
   ],
   "source": [
    "test.train(x_train, y_train, epochs=50, lr=0.01)"
   ]
  },
  {
   "cell_type": "code",
   "execution_count": 11,
   "id": "6d37bf85",
   "metadata": {},
   "outputs": [
    {
     "data": {
      "text/plain": [
       "(array([0.046, 0.436, 0.002, 0.516]), array([0., 0., 0., 1.]))"
      ]
     },
     "execution_count": 11,
     "metadata": {},
     "output_type": "execute_result"
    }
   ],
   "source": [
    "np.round(test(x_train[0]), 3), y_train[0]"
   ]
  },
  {
   "cell_type": "code",
   "execution_count": 12,
   "id": "0cbfab63",
   "metadata": {},
   "outputs": [
    {
     "data": {
      "text/plain": [
       "91.5"
      ]
     },
     "execution_count": 12,
     "metadata": {},
     "output_type": "execute_result"
    }
   ],
   "source": [
    "res = np.array([np.round(test(_)) for _ in x_test])\n",
    "((res == y_test).sum() / res.size) * 100"
   ]
  },
  {
   "cell_type": "code",
   "execution_count": null,
   "id": "2582fe91",
   "metadata": {},
   "outputs": [],
   "source": []
  }
 ],
 "metadata": {
  "kernelspec": {
   "display_name": "Python [conda env:NN]",
   "language": "python",
   "name": "conda-env-NN-py"
  },
  "language_info": {
   "codemirror_mode": {
    "name": "ipython",
    "version": 3
   },
   "file_extension": ".py",
   "mimetype": "text/x-python",
   "name": "python",
   "nbconvert_exporter": "python",
   "pygments_lexer": "ipython3",
   "version": "3.10.9"
  }
 },
 "nbformat": 4,
 "nbformat_minor": 5
}
