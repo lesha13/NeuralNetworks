{
 "cells": [
  {
   "cell_type": "code",
   "execution_count": 1,
   "id": "bc85d344",
   "metadata": {},
   "outputs": [],
   "source": [
    "import sys\n",
    "sys.path.insert(0, \"..\")"
   ]
  },
  {
   "cell_type": "code",
   "execution_count": 2,
   "id": "7f0bc058",
   "metadata": {},
   "outputs": [],
   "source": [
    "from NeuralNetworks import SequentialNeuralNetwork\n",
    "from Layers import DenseLayer"
   ]
  },
  {
   "cell_type": "code",
   "execution_count": 3,
   "id": "b6e43b6d",
   "metadata": {},
   "outputs": [],
   "source": [
    "test = SequentialNeuralNetwork()"
   ]
  },
  {
   "cell_type": "code",
   "execution_count": 4,
   "id": "17da3e38",
   "metadata": {},
   "outputs": [
    {
     "data": {
      "text/plain": [
       "SequentialNeuralNetwork(NeuralNetwork):\n",
       "\t*cricket sounds*"
      ]
     },
     "execution_count": 4,
     "metadata": {},
     "output_type": "execute_result"
    }
   ],
   "source": [
    "test"
   ]
  },
  {
   "cell_type": "code",
   "execution_count": 5,
   "id": "5da94bb5",
   "metadata": {},
   "outputs": [
    {
     "data": {
      "text/plain": [
       "SequentialNeuralNetwork(NeuralNetwork):\n",
       "MYBkEHGrkn: DenseLayer(\n",
       "\tinput size: 2, output size: 3, activation function: sigmoid\n",
       ")\n",
       "grIGNJSciA: DenseLayer(\n",
       "\tinput size: 2, output size: 3, activation function: sigmoid\n",
       ")"
      ]
     },
     "execution_count": 5,
     "metadata": {},
     "output_type": "execute_result"
    }
   ],
   "source": [
    "(\n",
    "    test\n",
    "    .add(DenseLayer(2, 3))\n",
    "    .add(DenseLayer(2, 3))\n",
    ")"
   ]
  },
  {
   "cell_type": "code",
   "execution_count": 6,
   "id": "30f5f75b",
   "metadata": {},
   "outputs": [
    {
     "data": {
      "text/plain": [
       "SequentialNeuralNetwork(NeuralNetwork):\n",
       "MYBkEHGrkn: DenseLayer(\n",
       "\tinput size: 2, output size: 3, activation function: sigmoid\n",
       ")\n",
       "tfvmNuoAam: DenseLayer(\n",
       "\tinput size: 3, output size: 4, activation function: sigmoid\n",
       ")\n",
       "grIGNJSciA: DenseLayer(\n",
       "\tinput size: 2, output size: 3, activation function: sigmoid\n",
       ")"
      ]
     },
     "execution_count": 6,
     "metadata": {},
     "output_type": "execute_result"
    }
   ],
   "source": [
    "test.add([DenseLayer(3, 4)], 1)"
   ]
  },
  {
   "cell_type": "code",
   "execution_count": 7,
   "id": "ee5296c9",
   "metadata": {},
   "outputs": [
    {
     "data": {
      "text/plain": [
       "SequentialNeuralNetwork(NeuralNetwork):\n",
       "MYBkEHGrkn: DenseLayer(\n",
       "\tinput size: 2, output size: 3, activation function: sigmoid\n",
       ")\n",
       "tfvmNuoAam: DenseLayer(\n",
       "\tinput size: 3, output size: 4, activation function: sigmoid\n",
       ")\n",
       "grIGNJSciA: DenseLayer(\n",
       "\tinput size: 2, output size: 3, activation function: sigmoid\n",
       ")\n",
       "LEJaaFMZtJ: DenseLayer(\n",
       "\tinput size: 4, output size: 5, activation function: sigmoid\n",
       ")"
      ]
     },
     "execution_count": 7,
     "metadata": {},
     "output_type": "execute_result"
    }
   ],
   "source": [
    "test.add([DenseLayer(4, 5)], -1)"
   ]
  },
  {
   "cell_type": "code",
   "execution_count": 8,
   "id": "0d75ea05",
   "metadata": {},
   "outputs": [
    {
     "data": {
      "text/plain": [
       "SequentialNeuralNetwork(NeuralNetwork):\n",
       "MYBkEHGrkn: DenseLayer(\n",
       "\tinput size: 2, output size: 3, activation function: sigmoid\n",
       ")\n",
       "tfvmNuoAam: DenseLayer(\n",
       "\tinput size: 3, output size: 4, activation function: sigmoid\n",
       ")\n",
       "grIGNJSciA: DenseLayer(\n",
       "\tinput size: 2, output size: 3, activation function: sigmoid\n",
       ")\n",
       "a: DenseLayer(\n",
       "\tinput size: 4, output size: 5, activation function: sigmoid\n",
       ")\n",
       "LEJaaFMZtJ: DenseLayer(\n",
       "\tinput size: 4, output size: 5, activation function: sigmoid\n",
       ")"
      ]
     },
     "execution_count": 8,
     "metadata": {},
     "output_type": "execute_result"
    }
   ],
   "source": [
    "test.add({\"a\":DenseLayer(4, 5)}, -2)"
   ]
  },
  {
   "cell_type": "code",
   "execution_count": 9,
   "id": "997ddec2",
   "metadata": {},
   "outputs": [
    {
     "data": {
      "text/plain": [
       "SequentialNeuralNetwork(NeuralNetwork):\n",
       "MYBkEHGrkn: DenseLayer(\n",
       "\tinput size: 2, output size: 3, activation function: sigmoid\n",
       ")\n",
       "tfvmNuoAam: DenseLayer(\n",
       "\tinput size: 3, output size: 4, activation function: sigmoid\n",
       ")\n",
       "grIGNJSciA: DenseLayer(\n",
       "\tinput size: 2, output size: 3, activation function: sigmoid\n",
       ")\n",
       "a: DenseLayer(\n",
       "\tinput size: 4, output size: 5, activation function: sigmoid\n",
       ")\n",
       "LEJaaFMZtJ: DenseLayer(\n",
       "\tinput size: 4, output size: 5, activation function: sigmoid\n",
       ")\n",
       "b: DenseLayer(\n",
       "\tinput size: 4, output size: 5, activation function: sigmoid\n",
       ")"
      ]
     },
     "execution_count": 9,
     "metadata": {},
     "output_type": "execute_result"
    }
   ],
   "source": [
    "test.add({\"b\":DenseLayer(4, 5)})"
   ]
  },
  {
   "cell_type": "code",
   "execution_count": 10,
   "id": "096f7e6d",
   "metadata": {},
   "outputs": [
    {
     "data": {
      "text/plain": [
       "SequentialNeuralNetwork(NeuralNetwork):\n",
       "MYBkEHGrkn: DenseLayer(\n",
       "\tinput size: 2, output size: 3, activation function: sigmoid\n",
       ")\n",
       "tfvmNuoAam: DenseLayer(\n",
       "\tinput size: 3, output size: 4, activation function: sigmoid\n",
       ")\n",
       "grIGNJSciA: DenseLayer(\n",
       "\tinput size: 2, output size: 3, activation function: sigmoid\n",
       ")\n",
       "a: DenseLayer(\n",
       "\tinput size: 4, output size: 5, activation function: sigmoid\n",
       ")\n",
       "LEJaaFMZtJ: DenseLayer(\n",
       "\tinput size: 4, output size: 5, activation function: sigmoid\n",
       ")\n",
       "b: DenseLayer(\n",
       "\tinput size: 4, output size: 5, activation function: sigmoid\n",
       ")"
      ]
     },
     "execution_count": 10,
     "metadata": {},
     "output_type": "execute_result"
    }
   ],
   "source": [
    "test"
   ]
  },
  {
   "cell_type": "code",
   "execution_count": 11,
   "id": "2fe10dfc",
   "metadata": {},
   "outputs": [
    {
     "ename": "TypeError",
     "evalue": "Passed argument is not a Layer",
     "output_type": "error",
     "traceback": [
      "\u001b[1;31m---------------------------------------------------------------------------\u001b[0m",
      "\u001b[1;31mTypeError\u001b[0m                                 Traceback (most recent call last)",
      "Cell \u001b[1;32mIn[11], line 1\u001b[0m\n\u001b[1;32m----> 1\u001b[0m \u001b[43mtest\u001b[49m\u001b[38;5;241;43m.\u001b[39;49m\u001b[43madd\u001b[49m\u001b[43m(\u001b[49m\u001b[38;5;241;43m12123\u001b[39;49m\u001b[43m)\u001b[49m\n",
      "File \u001b[1;32m~\\PycharmProjects\\NeuralNetworksConstructor\\tests\\..\\NeuralNetworks\\SequentialNeuralNetwork.py:59\u001b[0m, in \u001b[0;36mSequentialNeuralNetwork.add\u001b[1;34m(self, layers, index)\u001b[0m\n\u001b[0;32m     56\u001b[0m         \u001b[38;5;28;01mraise\u001b[39;00m \u001b[38;5;167;01mTypeError\u001b[39;00m(\u001b[38;5;124mf\u001b[39m\u001b[38;5;124m\"\u001b[39m\u001b[38;5;124mPassed argument keys must be str and values must be Layer type\u001b[39m\u001b[38;5;124m\"\u001b[39m)\n\u001b[0;32m     58\u001b[0m \u001b[38;5;28;01melse\u001b[39;00m:\n\u001b[1;32m---> 59\u001b[0m     \u001b[38;5;28;01mraise\u001b[39;00m \u001b[38;5;167;01mTypeError\u001b[39;00m(\u001b[38;5;124mf\u001b[39m\u001b[38;5;124m\"\u001b[39m\u001b[38;5;124mPassed argument is not a Layer\u001b[39m\u001b[38;5;124m\"\u001b[39m)\n\u001b[0;32m     61\u001b[0m \u001b[38;5;28;01mif\u001b[39;00m move:\n\u001b[0;32m     62\u001b[0m     \u001b[38;5;28mself\u001b[39m\u001b[38;5;241m.\u001b[39madd(add)\n",
      "\u001b[1;31mTypeError\u001b[0m: Passed argument is not a Layer"
     ]
    }
   ],
   "source": [
    "test.add(12123)"
   ]
  },
  {
   "cell_type": "code",
   "execution_count": null,
   "id": "faf8af58",
   "metadata": {},
   "outputs": [],
   "source": [
    "test.add((DenseLayer(3, 4)))"
   ]
  },
  {
   "cell_type": "code",
   "execution_count": null,
   "id": "5fa9e834",
   "metadata": {
    "scrolled": false
   },
   "outputs": [],
   "source": [
    "test.add({\"aaa\": DenseLayer(3, 4), \"bbb\": DenseLayer(3, 4)})"
   ]
  },
  {
   "cell_type": "code",
   "execution_count": null,
   "id": "18656eda",
   "metadata": {},
   "outputs": [],
   "source": [
    "for _ in range(1, 11):\n",
    "    test.add(DenseLayer(_, _+1))"
   ]
  },
  {
   "cell_type": "code",
   "execution_count": null,
   "id": "a6347760",
   "metadata": {},
   "outputs": [],
   "source": [
    "test"
   ]
  },
  {
   "cell_type": "code",
   "execution_count": null,
   "id": "a99e03bc",
   "metadata": {},
   "outputs": [],
   "source": [
    "test.delete()"
   ]
  },
  {
   "cell_type": "code",
   "execution_count": null,
   "id": "d38a7541",
   "metadata": {},
   "outputs": [],
   "source": [
    "test.delete(1)"
   ]
  },
  {
   "cell_type": "code",
   "execution_count": null,
   "id": "0170832d",
   "metadata": {},
   "outputs": [],
   "source": [
    "test.delete([\"aaa\", \"bbb\"])"
   ]
  },
  {
   "cell_type": "code",
   "execution_count": null,
   "id": "0cf651de",
   "metadata": {},
   "outputs": [],
   "source": [
    "test.delete(123)"
   ]
  },
  {
   "cell_type": "code",
   "execution_count": null,
   "id": "37a9a7b1",
   "metadata": {},
   "outputs": [],
   "source": [
    "test.delete(3.4)"
   ]
  },
  {
   "cell_type": "code",
   "execution_count": null,
   "id": "5d7c9865",
   "metadata": {},
   "outputs": [],
   "source": [
    "isinstance(3.4, (int, str))"
   ]
  },
  {
   "cell_type": "code",
   "execution_count": null,
   "id": "ce6c69e7",
   "metadata": {},
   "outputs": [],
   "source": []
  }
 ],
 "metadata": {
  "kernelspec": {
   "display_name": "Python [conda env:NN]",
   "language": "python",
   "name": "conda-env-NN-py"
  },
  "language_info": {
   "codemirror_mode": {
    "name": "ipython",
    "version": 3
   },
   "file_extension": ".py",
   "mimetype": "text/x-python",
   "name": "python",
   "nbconvert_exporter": "python",
   "pygments_lexer": "ipython3",
   "version": "3.10.9"
  }
 },
 "nbformat": 4,
 "nbformat_minor": 5
}
