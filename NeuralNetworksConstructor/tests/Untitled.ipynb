{
 "cells": [
  {
   "cell_type": "code",
   "execution_count": 34,
   "id": "6e41ec0f",
   "metadata": {},
   "outputs": [],
   "source": [
    "import numpy as np"
   ]
  },
  {
   "cell_type": "code",
   "execution_count": 10,
   "id": "c8a8cbfc",
   "metadata": {},
   "outputs": [],
   "source": [
    "l = []"
   ]
  },
  {
   "cell_type": "code",
   "execution_count": 11,
   "id": "c57390b4",
   "metadata": {},
   "outputs": [],
   "source": [
    "for _ in l[1:-1:]:\n",
    "    print(_)"
   ]
  },
  {
   "cell_type": "code",
   "execution_count": 12,
   "id": "b3fdb705",
   "metadata": {},
   "outputs": [],
   "source": [
    "l = [1]"
   ]
  },
  {
   "cell_type": "code",
   "execution_count": 13,
   "id": "8d80a126",
   "metadata": {},
   "outputs": [],
   "source": [
    "for _ in l[1:-1:]:\n",
    "    print(_)"
   ]
  },
  {
   "cell_type": "code",
   "execution_count": 14,
   "id": "5a2dcd25",
   "metadata": {},
   "outputs": [],
   "source": [
    "l = [1, 2]"
   ]
  },
  {
   "cell_type": "code",
   "execution_count": 15,
   "id": "61e71296",
   "metadata": {},
   "outputs": [],
   "source": [
    "for _ in l[1:-1:]:\n",
    "    print(_)"
   ]
  },
  {
   "cell_type": "code",
   "execution_count": 16,
   "id": "8e16bd44",
   "metadata": {},
   "outputs": [],
   "source": [
    "l = [1, 2, 3]"
   ]
  },
  {
   "cell_type": "code",
   "execution_count": 17,
   "id": "4a51ac3c",
   "metadata": {},
   "outputs": [
    {
     "name": "stdout",
     "output_type": "stream",
     "text": [
      "2\n"
     ]
    }
   ],
   "source": [
    "for _ in l[1:-1:]:\n",
    "    print(_)"
   ]
  },
  {
   "cell_type": "code",
   "execution_count": 19,
   "id": "f0936f01",
   "metadata": {},
   "outputs": [
    {
     "data": {
      "text/plain": [
       "(1, 3)"
      ]
     },
     "execution_count": 19,
     "metadata": {},
     "output_type": "execute_result"
    }
   ],
   "source": [
    "l[0], l[-1]"
   ]
  },
  {
   "cell_type": "code",
   "execution_count": 23,
   "id": "1eb21de6",
   "metadata": {},
   "outputs": [
    {
     "name": "stdout",
     "output_type": "stream",
     "text": [
      "1 0 2\n"
     ]
    }
   ],
   "source": [
    "for i in tuple(range(3))[1:-1:]:\n",
    "    print(i, i-1, i+1)"
   ]
  },
  {
   "cell_type": "code",
   "execution_count": 36,
   "id": "7b02a6e9",
   "metadata": {},
   "outputs": [],
   "source": [
    "a = reversed(np.array([1, 2, 3]))"
   ]
  },
  {
   "cell_type": "code",
   "execution_count": 40,
   "id": "4ab52f0a",
   "metadata": {},
   "outputs": [
    {
     "ename": "StopIteration",
     "evalue": "",
     "output_type": "error",
     "traceback": [
      "\u001b[1;31m---------------------------------------------------------------------------\u001b[0m",
      "\u001b[1;31mStopIteration\u001b[0m                             Traceback (most recent call last)",
      "Cell \u001b[1;32mIn[40], line 1\u001b[0m\n\u001b[1;32m----> 1\u001b[0m \u001b[38;5;28;43mnext\u001b[39;49m\u001b[43m(\u001b[49m\u001b[43ma\u001b[49m\u001b[43m)\u001b[49m\n",
      "\u001b[1;31mStopIteration\u001b[0m: "
     ]
    }
   ],
   "source": [
    "next(a)"
   ]
  },
  {
   "cell_type": "code",
   "execution_count": null,
   "id": "594e8c26",
   "metadata": {},
   "outputs": [],
   "source": []
  }
 ],
 "metadata": {
  "kernelspec": {
   "display_name": "Python [conda env:NN]",
   "language": "python",
   "name": "conda-env-NN-py"
  },
  "language_info": {
   "codemirror_mode": {
    "name": "ipython",
    "version": 3
   },
   "file_extension": ".py",
   "mimetype": "text/x-python",
   "name": "python",
   "nbconvert_exporter": "python",
   "pygments_lexer": "ipython3",
   "version": "3.10.9"
  }
 },
 "nbformat": 4,
 "nbformat_minor": 5
}
